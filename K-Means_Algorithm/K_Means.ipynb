{
  "nbformat": 4,
  "nbformat_minor": 0,
  "metadata": {
    "colab": {
      "provenance": []
    },
    "kernelspec": {
      "name": "python3",
      "display_name": "Python 3"
    },
    "language_info": {
      "name": "python"
    }
  },
  "cells": [
    {
      "cell_type": "markdown",
      "source": [
        "# Code By - Vibodh Bhosure"
      ],
      "metadata": {
        "id": "-4pzfHu3SvUD"
      }
    },
    {
      "cell_type": "code",
      "execution_count": null,
      "metadata": {
        "id": "E6I0bTUZ3KcH"
      },
      "outputs": [],
      "source": [
        "import pandas as pd\n",
        "import numpy as np\n",
        "import statistics as st\n",
        "import random"
      ]
    },
    {
      "cell_type": "code",
      "source": [
        "inp = [22,9,12,15,10,27,35,18,36,11]\n"
      ],
      "metadata": {
        "id": "ihFKPAyc3gP8"
      },
      "execution_count": null,
      "outputs": []
    },
    {
      "cell_type": "code",
      "source": [
        "k = int(input(\"Enter the value of k => \"))"
      ],
      "metadata": {
        "colab": {
          "base_uri": "https://localhost:8080/"
        },
        "id": "0EeNvcy35vyA",
        "outputId": "153ae019-991e-4198-989a-ab01170ab3bf"
      },
      "execution_count": null,
      "outputs": [
        {
          "name": "stdout",
          "output_type": "stream",
          "text": [
            "Enter the value of k => 3\n"
          ]
        }
      ]
    },
    {
      "cell_type": "code",
      "source": [
        "randomValue = []\n",
        "for i in range(0, k):\n",
        "  rand = inp[random.randint(0, len(inp)-1)]\n",
        "  if rand not in randomValue:\n",
        "    randomValue.append(rand)\n",
        "print(randomValue)"
      ],
      "metadata": {
        "colab": {
          "base_uri": "https://localhost:8080/"
        },
        "id": "hIMPBWg557ZR",
        "outputId": "26c7fc9b-b50d-40c8-f36f-f01aa02b2a45"
      },
      "execution_count": null,
      "outputs": [
        {
          "output_type": "stream",
          "name": "stdout",
          "text": [
            "[35, 10, 9]\n"
          ]
        }
      ]
    },
    {
      "cell_type": "code",
      "source": [
        "def distance(a,b):\n",
        "  return abs(a-b)"
      ],
      "metadata": {
        "id": "BP_W7ytj9SJh"
      },
      "execution_count": null,
      "outputs": []
    },
    {
      "cell_type": "code",
      "source": [
        "def itr(randomValue):\n",
        "  global c1\n",
        "  global c2\n",
        "  global c3\n",
        "  c1=[]\n",
        "  c2=[]\n",
        "  c3=[]\n",
        "  lst = []\n",
        "  for i in inp:\n",
        "    d1 = distance(i,randomValue[0])\n",
        "    d2 = distance(i,randomValue[1])\n",
        "    d3 = distance(i,randomValue[2])\n",
        "    val = {\"d1\":d1,\"d2\":d2,\"d3\":d3}\n",
        "    minValue = sorted(val.items(), key=lambda t: t[1])[0][0]\n",
        "    if minValue == \"d1\":\n",
        "      c1.append(i)\n",
        "    elif minValue == \"d2\":\n",
        "      c2.append(i)\n",
        "    else: c3.append(i)\n",
        "  # print(c1)\n",
        "  # print(c2)\n",
        "  # print(c3)\n",
        "  c1 = np.array(c1)\n",
        "  c2 = np.array(c2)\n",
        "  c3 = np.array(c3)\n",
        "  c1_mean = np.mean(c1)\n",
        "  c2_mean = np.mean(c2)\n",
        "  c3_mean = np.mean(c3)\n",
        "  c1 = list(c1)\n",
        "  c2 = list(c2)\n",
        "  c3 = list(c3)\n",
        "  lst.append(c1_mean)\n",
        "  lst.append(c2_mean)\n",
        "  lst.append(c3_mean)\n",
        "  # print(c1_mean,c2_mean,c3_mean)\n",
        "  return lst"
      ],
      "metadata": {
        "id": "7LdaSc3m-BDJ"
      },
      "execution_count": null,
      "outputs": []
    },
    {
      "cell_type": "code",
      "source": [
        "prev_lst = []\n",
        "new_lst = itr(randomValue)\n",
        "while prev_lst != new_lst:\n",
        "  prev_lst = new_lst\n",
        "  new_lst = itr(new_lst)"
      ],
      "metadata": {
        "id": "6st_tOeD-qZO"
      },
      "execution_count": null,
      "outputs": []
    },
    {
      "cell_type": "code",
      "source": [
        "print(c1, c2, c3)"
      ],
      "metadata": {
        "colab": {
          "base_uri": "https://localhost:8080/"
        },
        "id": "yzWhvO5-NoT4",
        "outputId": "8ef1f806-918c-4831-c7d3-192c6fe93390"
      },
      "execution_count": null,
      "outputs": [
        {
          "output_type": "stream",
          "name": "stdout",
          "text": [
            "[27, 35, 36] [22, 15, 18] [9, 12, 10, 11]\n"
          ]
        }
      ]
    },
    {
      "cell_type": "code",
      "source": [],
      "metadata": {
        "id": "mjCk_GabSl9T"
      },
      "execution_count": null,
      "outputs": []
    }
  ]
}